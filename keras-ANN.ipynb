{
 "cells": [
  {
   "cell_type": "markdown",
   "metadata": {},
   "source": [
    "#### Artificial Neural Network"
   ]
  },
  {
   "cell_type": "markdown",
   "metadata": {},
   "source": [
    "#### Data preprocessing-part1"
   ]
  },
  {
   "cell_type": "code",
   "execution_count": 2,
   "metadata": {},
   "outputs": [],
   "source": [
    "#Imporing the libraries\n",
    "\n",
    "import pandas as pd\n",
    "import matplotlib.pyplot as plt\n",
    "import numpy as np"
   ]
  },
  {
   "cell_type": "code",
   "execution_count": 3,
   "metadata": {},
   "outputs": [
    {
     "data": {
      "text/html": [
       "<div>\n",
       "<style scoped>\n",
       "    .dataframe tbody tr th:only-of-type {\n",
       "        vertical-align: middle;\n",
       "    }\n",
       "\n",
       "    .dataframe tbody tr th {\n",
       "        vertical-align: top;\n",
       "    }\n",
       "\n",
       "    .dataframe thead th {\n",
       "        text-align: right;\n",
       "    }\n",
       "</style>\n",
       "<table border=\"1\" class=\"dataframe\">\n",
       "  <thead>\n",
       "    <tr style=\"text-align: right;\">\n",
       "      <th></th>\n",
       "      <th>RowNumber</th>\n",
       "      <th>CustomerId</th>\n",
       "      <th>Surname</th>\n",
       "      <th>CreditScore</th>\n",
       "      <th>Geography</th>\n",
       "      <th>Gender</th>\n",
       "      <th>Age</th>\n",
       "      <th>Tenure</th>\n",
       "      <th>Balance</th>\n",
       "      <th>NumOfProducts</th>\n",
       "      <th>HasCrCard</th>\n",
       "      <th>IsActiveMember</th>\n",
       "      <th>EstimatedSalary</th>\n",
       "      <th>Exited</th>\n",
       "    </tr>\n",
       "  </thead>\n",
       "  <tbody>\n",
       "    <tr>\n",
       "      <th>0</th>\n",
       "      <td>1</td>\n",
       "      <td>15634602</td>\n",
       "      <td>Hargrave</td>\n",
       "      <td>619</td>\n",
       "      <td>France</td>\n",
       "      <td>Female</td>\n",
       "      <td>42</td>\n",
       "      <td>2</td>\n",
       "      <td>0.00</td>\n",
       "      <td>1</td>\n",
       "      <td>1</td>\n",
       "      <td>1</td>\n",
       "      <td>101348.88</td>\n",
       "      <td>1</td>\n",
       "    </tr>\n",
       "    <tr>\n",
       "      <th>1</th>\n",
       "      <td>2</td>\n",
       "      <td>15647311</td>\n",
       "      <td>Hill</td>\n",
       "      <td>608</td>\n",
       "      <td>Spain</td>\n",
       "      <td>Female</td>\n",
       "      <td>41</td>\n",
       "      <td>1</td>\n",
       "      <td>83807.86</td>\n",
       "      <td>1</td>\n",
       "      <td>0</td>\n",
       "      <td>1</td>\n",
       "      <td>112542.58</td>\n",
       "      <td>0</td>\n",
       "    </tr>\n",
       "    <tr>\n",
       "      <th>2</th>\n",
       "      <td>3</td>\n",
       "      <td>15619304</td>\n",
       "      <td>Onio</td>\n",
       "      <td>502</td>\n",
       "      <td>France</td>\n",
       "      <td>Female</td>\n",
       "      <td>42</td>\n",
       "      <td>8</td>\n",
       "      <td>159660.80</td>\n",
       "      <td>3</td>\n",
       "      <td>1</td>\n",
       "      <td>0</td>\n",
       "      <td>113931.57</td>\n",
       "      <td>1</td>\n",
       "    </tr>\n",
       "    <tr>\n",
       "      <th>3</th>\n",
       "      <td>4</td>\n",
       "      <td>15701354</td>\n",
       "      <td>Boni</td>\n",
       "      <td>699</td>\n",
       "      <td>France</td>\n",
       "      <td>Female</td>\n",
       "      <td>39</td>\n",
       "      <td>1</td>\n",
       "      <td>0.00</td>\n",
       "      <td>2</td>\n",
       "      <td>0</td>\n",
       "      <td>0</td>\n",
       "      <td>93826.63</td>\n",
       "      <td>0</td>\n",
       "    </tr>\n",
       "    <tr>\n",
       "      <th>4</th>\n",
       "      <td>5</td>\n",
       "      <td>15737888</td>\n",
       "      <td>Mitchell</td>\n",
       "      <td>850</td>\n",
       "      <td>Spain</td>\n",
       "      <td>Female</td>\n",
       "      <td>43</td>\n",
       "      <td>2</td>\n",
       "      <td>125510.82</td>\n",
       "      <td>1</td>\n",
       "      <td>1</td>\n",
       "      <td>1</td>\n",
       "      <td>79084.10</td>\n",
       "      <td>0</td>\n",
       "    </tr>\n",
       "  </tbody>\n",
       "</table>\n",
       "</div>"
      ],
      "text/plain": [
       "   RowNumber  CustomerId   Surname  CreditScore Geography  Gender  Age  \\\n",
       "0          1    15634602  Hargrave          619    France  Female   42   \n",
       "1          2    15647311      Hill          608     Spain  Female   41   \n",
       "2          3    15619304      Onio          502    France  Female   42   \n",
       "3          4    15701354      Boni          699    France  Female   39   \n",
       "4          5    15737888  Mitchell          850     Spain  Female   43   \n",
       "\n",
       "   Tenure    Balance  NumOfProducts  HasCrCard  IsActiveMember  \\\n",
       "0       2       0.00              1          1               1   \n",
       "1       1   83807.86              1          0               1   \n",
       "2       8  159660.80              3          1               0   \n",
       "3       1       0.00              2          0               0   \n",
       "4       2  125510.82              1          1               1   \n",
       "\n",
       "   EstimatedSalary  Exited  \n",
       "0        101348.88       1  \n",
       "1        112542.58       0  \n",
       "2        113931.57       1  \n",
       "3         93826.63       0  \n",
       "4         79084.10       0  "
      ]
     },
     "execution_count": 3,
     "metadata": {},
     "output_type": "execute_result"
    }
   ],
   "source": [
    "# Imporing the dataset\n",
    "dataset = pd.read_csv('Churn_Modelling.csv')\n",
    "dataset.head()"
   ]
  },
  {
   "cell_type": "code",
   "execution_count": 4,
   "metadata": {},
   "outputs": [],
   "source": [
    "# Independent and Dependent\n",
    "X = dataset.iloc[:,3:13]\n",
    "y = dataset.iloc[:, 13]"
   ]
  },
  {
   "cell_type": "code",
   "execution_count": 6,
   "metadata": {},
   "outputs": [
    {
     "data": {
      "text/plain": [
       "0    1\n",
       "1    0\n",
       "2    1\n",
       "3    0\n",
       "4    0\n",
       "Name: Exited, dtype: int64"
      ]
     },
     "execution_count": 6,
     "metadata": {},
     "output_type": "execute_result"
    }
   ],
   "source": [
    "y.head()"
   ]
  },
  {
   "cell_type": "code",
   "execution_count": 7,
   "metadata": {},
   "outputs": [
    {
     "data": {
      "text/html": [
       "<div>\n",
       "<style scoped>\n",
       "    .dataframe tbody tr th:only-of-type {\n",
       "        vertical-align: middle;\n",
       "    }\n",
       "\n",
       "    .dataframe tbody tr th {\n",
       "        vertical-align: top;\n",
       "    }\n",
       "\n",
       "    .dataframe thead th {\n",
       "        text-align: right;\n",
       "    }\n",
       "</style>\n",
       "<table border=\"1\" class=\"dataframe\">\n",
       "  <thead>\n",
       "    <tr style=\"text-align: right;\">\n",
       "      <th></th>\n",
       "      <th>CreditScore</th>\n",
       "      <th>Geography</th>\n",
       "      <th>Gender</th>\n",
       "      <th>Age</th>\n",
       "      <th>Tenure</th>\n",
       "      <th>Balance</th>\n",
       "      <th>NumOfProducts</th>\n",
       "      <th>HasCrCard</th>\n",
       "      <th>IsActiveMember</th>\n",
       "      <th>EstimatedSalary</th>\n",
       "    </tr>\n",
       "  </thead>\n",
       "  <tbody>\n",
       "    <tr>\n",
       "      <th>0</th>\n",
       "      <td>619</td>\n",
       "      <td>France</td>\n",
       "      <td>Female</td>\n",
       "      <td>42</td>\n",
       "      <td>2</td>\n",
       "      <td>0.00</td>\n",
       "      <td>1</td>\n",
       "      <td>1</td>\n",
       "      <td>1</td>\n",
       "      <td>101348.88</td>\n",
       "    </tr>\n",
       "    <tr>\n",
       "      <th>1</th>\n",
       "      <td>608</td>\n",
       "      <td>Spain</td>\n",
       "      <td>Female</td>\n",
       "      <td>41</td>\n",
       "      <td>1</td>\n",
       "      <td>83807.86</td>\n",
       "      <td>1</td>\n",
       "      <td>0</td>\n",
       "      <td>1</td>\n",
       "      <td>112542.58</td>\n",
       "    </tr>\n",
       "    <tr>\n",
       "      <th>2</th>\n",
       "      <td>502</td>\n",
       "      <td>France</td>\n",
       "      <td>Female</td>\n",
       "      <td>42</td>\n",
       "      <td>8</td>\n",
       "      <td>159660.80</td>\n",
       "      <td>3</td>\n",
       "      <td>1</td>\n",
       "      <td>0</td>\n",
       "      <td>113931.57</td>\n",
       "    </tr>\n",
       "    <tr>\n",
       "      <th>3</th>\n",
       "      <td>699</td>\n",
       "      <td>France</td>\n",
       "      <td>Female</td>\n",
       "      <td>39</td>\n",
       "      <td>1</td>\n",
       "      <td>0.00</td>\n",
       "      <td>2</td>\n",
       "      <td>0</td>\n",
       "      <td>0</td>\n",
       "      <td>93826.63</td>\n",
       "    </tr>\n",
       "    <tr>\n",
       "      <th>4</th>\n",
       "      <td>850</td>\n",
       "      <td>Spain</td>\n",
       "      <td>Female</td>\n",
       "      <td>43</td>\n",
       "      <td>2</td>\n",
       "      <td>125510.82</td>\n",
       "      <td>1</td>\n",
       "      <td>1</td>\n",
       "      <td>1</td>\n",
       "      <td>79084.10</td>\n",
       "    </tr>\n",
       "  </tbody>\n",
       "</table>\n",
       "</div>"
      ],
      "text/plain": [
       "   CreditScore Geography  Gender  Age  Tenure    Balance  NumOfProducts  \\\n",
       "0          619    France  Female   42       2       0.00              1   \n",
       "1          608     Spain  Female   41       1   83807.86              1   \n",
       "2          502    France  Female   42       8  159660.80              3   \n",
       "3          699    France  Female   39       1       0.00              2   \n",
       "4          850     Spain  Female   43       2  125510.82              1   \n",
       "\n",
       "   HasCrCard  IsActiveMember  EstimatedSalary  \n",
       "0          1               1        101348.88  \n",
       "1          0               1        112542.58  \n",
       "2          1               0        113931.57  \n",
       "3          0               0         93826.63  \n",
       "4          1               1         79084.10  "
      ]
     },
     "execution_count": 7,
     "metadata": {},
     "output_type": "execute_result"
    }
   ],
   "source": [
    "X.head()"
   ]
  },
  {
   "cell_type": "code",
   "execution_count": 11,
   "metadata": {},
   "outputs": [
    {
     "data": {
      "text/plain": [
       "array(['France', 'Spain', 'Germany'], dtype=object)"
      ]
     },
     "execution_count": 11,
     "metadata": {},
     "output_type": "execute_result"
    }
   ],
   "source": [
    "X['Geography'].unique()"
   ]
  },
  {
   "cell_type": "code",
   "execution_count": 16,
   "metadata": {},
   "outputs": [],
   "source": [
    "# Creat Dummpy variable\n",
    "geography = pd.get_dummies(X[\"Geography\"], drop_first=True)"
   ]
  },
  {
   "cell_type": "code",
   "execution_count": 18,
   "metadata": {},
   "outputs": [
    {
     "data": {
      "text/html": [
       "<div>\n",
       "<style scoped>\n",
       "    .dataframe tbody tr th:only-of-type {\n",
       "        vertical-align: middle;\n",
       "    }\n",
       "\n",
       "    .dataframe tbody tr th {\n",
       "        vertical-align: top;\n",
       "    }\n",
       "\n",
       "    .dataframe thead th {\n",
       "        text-align: right;\n",
       "    }\n",
       "</style>\n",
       "<table border=\"1\" class=\"dataframe\">\n",
       "  <thead>\n",
       "    <tr style=\"text-align: right;\">\n",
       "      <th></th>\n",
       "      <th>Germany</th>\n",
       "      <th>Spain</th>\n",
       "    </tr>\n",
       "  </thead>\n",
       "  <tbody>\n",
       "    <tr>\n",
       "      <th>0</th>\n",
       "      <td>0</td>\n",
       "      <td>0</td>\n",
       "    </tr>\n",
       "    <tr>\n",
       "      <th>1</th>\n",
       "      <td>0</td>\n",
       "      <td>1</td>\n",
       "    </tr>\n",
       "    <tr>\n",
       "      <th>2</th>\n",
       "      <td>0</td>\n",
       "      <td>0</td>\n",
       "    </tr>\n",
       "    <tr>\n",
       "      <th>3</th>\n",
       "      <td>0</td>\n",
       "      <td>0</td>\n",
       "    </tr>\n",
       "    <tr>\n",
       "      <th>4</th>\n",
       "      <td>0</td>\n",
       "      <td>1</td>\n",
       "    </tr>\n",
       "  </tbody>\n",
       "</table>\n",
       "</div>"
      ],
      "text/plain": [
       "   Germany  Spain\n",
       "0        0      0\n",
       "1        0      1\n",
       "2        0      0\n",
       "3        0      0\n",
       "4        0      1"
      ]
     },
     "execution_count": 18,
     "metadata": {},
     "output_type": "execute_result"
    }
   ],
   "source": [
    "geography.head()"
   ]
  },
  {
   "cell_type": "code",
   "execution_count": 19,
   "metadata": {},
   "outputs": [],
   "source": [
    "gender = pd.get_dummies(X['Gender'], drop_first=True)"
   ]
  },
  {
   "cell_type": "code",
   "execution_count": 20,
   "metadata": {},
   "outputs": [
    {
     "data": {
      "text/html": [
       "<div>\n",
       "<style scoped>\n",
       "    .dataframe tbody tr th:only-of-type {\n",
       "        vertical-align: middle;\n",
       "    }\n",
       "\n",
       "    .dataframe tbody tr th {\n",
       "        vertical-align: top;\n",
       "    }\n",
       "\n",
       "    .dataframe thead th {\n",
       "        text-align: right;\n",
       "    }\n",
       "</style>\n",
       "<table border=\"1\" class=\"dataframe\">\n",
       "  <thead>\n",
       "    <tr style=\"text-align: right;\">\n",
       "      <th></th>\n",
       "      <th>Male</th>\n",
       "    </tr>\n",
       "  </thead>\n",
       "  <tbody>\n",
       "    <tr>\n",
       "      <th>0</th>\n",
       "      <td>0</td>\n",
       "    </tr>\n",
       "    <tr>\n",
       "      <th>1</th>\n",
       "      <td>0</td>\n",
       "    </tr>\n",
       "    <tr>\n",
       "      <th>2</th>\n",
       "      <td>0</td>\n",
       "    </tr>\n",
       "    <tr>\n",
       "      <th>3</th>\n",
       "      <td>0</td>\n",
       "    </tr>\n",
       "    <tr>\n",
       "      <th>4</th>\n",
       "      <td>0</td>\n",
       "    </tr>\n",
       "  </tbody>\n",
       "</table>\n",
       "</div>"
      ],
      "text/plain": [
       "   Male\n",
       "0     0\n",
       "1     0\n",
       "2     0\n",
       "3     0\n",
       "4     0"
      ]
     },
     "execution_count": 20,
     "metadata": {},
     "output_type": "execute_result"
    }
   ],
   "source": [
    "gender.head()"
   ]
  },
  {
   "cell_type": "code",
   "execution_count": 21,
   "metadata": {},
   "outputs": [],
   "source": [
    "## Concatinate the DataFrame\n",
    "X = pd.concat([X,geography, gender], axis=1)"
   ]
  },
  {
   "cell_type": "code",
   "execution_count": 22,
   "metadata": {},
   "outputs": [],
   "source": [
    "# Drop Unnecessary columns\n",
    "X = X.drop(['Geography','Gender'], axis=1)"
   ]
  },
  {
   "cell_type": "code",
   "execution_count": 23,
   "metadata": {},
   "outputs": [
    {
     "data": {
      "text/html": [
       "<div>\n",
       "<style scoped>\n",
       "    .dataframe tbody tr th:only-of-type {\n",
       "        vertical-align: middle;\n",
       "    }\n",
       "\n",
       "    .dataframe tbody tr th {\n",
       "        vertical-align: top;\n",
       "    }\n",
       "\n",
       "    .dataframe thead th {\n",
       "        text-align: right;\n",
       "    }\n",
       "</style>\n",
       "<table border=\"1\" class=\"dataframe\">\n",
       "  <thead>\n",
       "    <tr style=\"text-align: right;\">\n",
       "      <th></th>\n",
       "      <th>CreditScore</th>\n",
       "      <th>Age</th>\n",
       "      <th>Tenure</th>\n",
       "      <th>Balance</th>\n",
       "      <th>NumOfProducts</th>\n",
       "      <th>HasCrCard</th>\n",
       "      <th>IsActiveMember</th>\n",
       "      <th>EstimatedSalary</th>\n",
       "      <th>Germany</th>\n",
       "      <th>Spain</th>\n",
       "      <th>Male</th>\n",
       "    </tr>\n",
       "  </thead>\n",
       "  <tbody>\n",
       "    <tr>\n",
       "      <th>0</th>\n",
       "      <td>619</td>\n",
       "      <td>42</td>\n",
       "      <td>2</td>\n",
       "      <td>0.00</td>\n",
       "      <td>1</td>\n",
       "      <td>1</td>\n",
       "      <td>1</td>\n",
       "      <td>101348.88</td>\n",
       "      <td>0</td>\n",
       "      <td>0</td>\n",
       "      <td>0</td>\n",
       "    </tr>\n",
       "    <tr>\n",
       "      <th>1</th>\n",
       "      <td>608</td>\n",
       "      <td>41</td>\n",
       "      <td>1</td>\n",
       "      <td>83807.86</td>\n",
       "      <td>1</td>\n",
       "      <td>0</td>\n",
       "      <td>1</td>\n",
       "      <td>112542.58</td>\n",
       "      <td>0</td>\n",
       "      <td>1</td>\n",
       "      <td>0</td>\n",
       "    </tr>\n",
       "    <tr>\n",
       "      <th>2</th>\n",
       "      <td>502</td>\n",
       "      <td>42</td>\n",
       "      <td>8</td>\n",
       "      <td>159660.80</td>\n",
       "      <td>3</td>\n",
       "      <td>1</td>\n",
       "      <td>0</td>\n",
       "      <td>113931.57</td>\n",
       "      <td>0</td>\n",
       "      <td>0</td>\n",
       "      <td>0</td>\n",
       "    </tr>\n",
       "    <tr>\n",
       "      <th>3</th>\n",
       "      <td>699</td>\n",
       "      <td>39</td>\n",
       "      <td>1</td>\n",
       "      <td>0.00</td>\n",
       "      <td>2</td>\n",
       "      <td>0</td>\n",
       "      <td>0</td>\n",
       "      <td>93826.63</td>\n",
       "      <td>0</td>\n",
       "      <td>0</td>\n",
       "      <td>0</td>\n",
       "    </tr>\n",
       "    <tr>\n",
       "      <th>4</th>\n",
       "      <td>850</td>\n",
       "      <td>43</td>\n",
       "      <td>2</td>\n",
       "      <td>125510.82</td>\n",
       "      <td>1</td>\n",
       "      <td>1</td>\n",
       "      <td>1</td>\n",
       "      <td>79084.10</td>\n",
       "      <td>0</td>\n",
       "      <td>1</td>\n",
       "      <td>0</td>\n",
       "    </tr>\n",
       "  </tbody>\n",
       "</table>\n",
       "</div>"
      ],
      "text/plain": [
       "   CreditScore  Age  Tenure    Balance  NumOfProducts  HasCrCard  \\\n",
       "0          619   42       2       0.00              1          1   \n",
       "1          608   41       1   83807.86              1          0   \n",
       "2          502   42       8  159660.80              3          1   \n",
       "3          699   39       1       0.00              2          0   \n",
       "4          850   43       2  125510.82              1          1   \n",
       "\n",
       "   IsActiveMember  EstimatedSalary  Germany  Spain  Male  \n",
       "0               1        101348.88        0      0     0  \n",
       "1               1        112542.58        0      1     0  \n",
       "2               0        113931.57        0      0     0  \n",
       "3               0         93826.63        0      0     0  \n",
       "4               1         79084.10        0      1     0  "
      ]
     },
     "execution_count": 23,
     "metadata": {},
     "output_type": "execute_result"
    }
   ],
   "source": [
    "X.head()"
   ]
  },
  {
   "cell_type": "code",
   "execution_count": 24,
   "metadata": {},
   "outputs": [],
   "source": [
    "# Splitting dataset into Training set and test set\n",
    "from sklearn.model_selection import train_test_split\n",
    "X_train, X_test, y_train, y_test = train_test_split(X, y, test_size=0.2, random_state=0)"
   ]
  },
  {
   "cell_type": "code",
   "execution_count": 26,
   "metadata": {},
   "outputs": [],
   "source": [
    "# Feature Scaling\n",
    "from sklearn.preprocessing import StandardScaler\n",
    "sc = StandardScaler()\n",
    "X_train = sc.fit_transform(X_train)\n",
    "X_test = sc.transform(X_test)"
   ]
  },
  {
   "cell_type": "markdown",
   "metadata": {},
   "source": [
    "#### Part 2 - Now lets make the ANN"
   ]
  },
  {
   "cell_type": "code",
   "execution_count": 28,
   "metadata": {},
   "outputs": [],
   "source": [
    "# Importing the Keras Libraries and packages\n",
    "import keras\n",
    "from keras.models import Sequential\n",
    "from keras.layers import Dense\n",
    "from keras.layers import Dropout"
   ]
  },
  {
   "cell_type": "code",
   "execution_count": 29,
   "metadata": {},
   "outputs": [],
   "source": [
    "# Initialising the ANN\n",
    "classifier = Sequential()"
   ]
  },
  {
   "cell_type": "code",
   "execution_count": 31,
   "metadata": {},
   "outputs": [],
   "source": [
    "#Adding the input layer and the first hidden layer\n",
    "classifier.add(Dense(units = 6, kernel_initializer = 'he_uniform', activation='relu', input_dim = 11))"
   ]
  },
  {
   "cell_type": "code",
   "execution_count": 32,
   "metadata": {},
   "outputs": [],
   "source": [
    "#Adding the second hidden layer\n",
    "classifier.add(Dense(units = 6, kernel_initializer = 'he_uniform', activation='relu'))"
   ]
  },
  {
   "cell_type": "code",
   "execution_count": 34,
   "metadata": {},
   "outputs": [],
   "source": [
    "#Adding the third hidden layer\n",
    "classifier.add(Dense(units = 1, kernel_initializer = 'glorot_uniform', activation='sigmoid'))"
   ]
  },
  {
   "cell_type": "code",
   "execution_count": 35,
   "metadata": {},
   "outputs": [
    {
     "name": "stdout",
     "output_type": "stream",
     "text": [
      "WARNING:tensorflow:From e:\\Users\\venky\\Anaconda3\\lib\\site-packages\\tensorflow\\python\\ops\\nn_impl.py:180: add_dispatch_support.<locals>.wrapper (from tensorflow.python.ops.array_ops) is deprecated and will be removed in a future version.\n",
      "Instructions for updating:\n",
      "Use tf.where in 2.0, which has the same broadcast rule as np.where\n"
     ]
    }
   ],
   "source": [
    "# Compiling the ANN\n",
    "classifier.compile(optimizer='adam', loss='binary_crossentropy', metrics=['accuracy'])"
   ]
  },
  {
   "cell_type": "code",
   "execution_count": 36,
   "metadata": {},
   "outputs": [
    {
     "name": "stderr",
     "output_type": "stream",
     "text": [
      "e:\\Users\\venky\\Anaconda3\\lib\\site-packages\\ipykernel_launcher.py:2: UserWarning: The `nb_epoch` argument in `fit` has been renamed `epochs`.\n",
      "  \n"
     ]
    },
    {
     "name": "stdout",
     "output_type": "stream",
     "text": [
      "WARNING:tensorflow:From e:\\Users\\venky\\Anaconda3\\lib\\site-packages\\keras\\backend\\tensorflow_backend.py:422: The name tf.global_variables is deprecated. Please use tf.compat.v1.global_variables instead.\n",
      "\n",
      "Train on 5359 samples, validate on 2641 samples\n",
      "Epoch 1/100\n",
      "5359/5359 [==============================] - 1s 259us/step - loss: 0.5060 - accuracy: 0.7822 - val_loss: 0.4644 - val_accuracy: 0.7955\n",
      "Epoch 2/100\n",
      "5359/5359 [==============================] - 1s 124us/step - loss: 0.4461 - accuracy: 0.8056 - val_loss: 0.4408 - val_accuracy: 0.8107\n",
      "Epoch 3/100\n",
      "5359/5359 [==============================] - 1s 126us/step - loss: 0.4262 - accuracy: 0.8199 - val_loss: 0.4272 - val_accuracy: 0.8148\n",
      "Epoch 4/100\n",
      "5359/5359 [==============================] - 1s 124us/step - loss: 0.4101 - accuracy: 0.8263 - val_loss: 0.4190 - val_accuracy: 0.8217\n",
      "Epoch 5/100\n",
      "5359/5359 [==============================] - 1s 125us/step - loss: 0.3972 - accuracy: 0.8308 - val_loss: 0.4057 - val_accuracy: 0.8292\n",
      "Epoch 6/100\n",
      "5359/5359 [==============================] - 1s 125us/step - loss: 0.3855 - accuracy: 0.8416 - val_loss: 0.3956 - val_accuracy: 0.8368\n",
      "Epoch 7/100\n",
      "5359/5359 [==============================] - 1s 123us/step - loss: 0.3758 - accuracy: 0.8481 - val_loss: 0.3885 - val_accuracy: 0.8368\n",
      "Epoch 8/100\n",
      "5359/5359 [==============================] - 1s 137us/step - loss: 0.3674 - accuracy: 0.8520 - val_loss: 0.3845 - val_accuracy: 0.8413\n",
      "Epoch 9/100\n",
      "5359/5359 [==============================] - 1s 121us/step - loss: 0.3630 - accuracy: 0.8563 - val_loss: 0.3812 - val_accuracy: 0.8353\n",
      "Epoch 10/100\n",
      "5359/5359 [==============================] - 1s 137us/step - loss: 0.3588 - accuracy: 0.8569 - val_loss: 0.3782 - val_accuracy: 0.8413\n",
      "Epoch 11/100\n",
      "5359/5359 [==============================] - 1s 128us/step - loss: 0.3555 - accuracy: 0.8606 - val_loss: 0.3762 - val_accuracy: 0.8421\n",
      "Epoch 12/100\n",
      "5359/5359 [==============================] - 1s 123us/step - loss: 0.3530 - accuracy: 0.8587 - val_loss: 0.3752 - val_accuracy: 0.8444\n",
      "Epoch 13/100\n",
      "5359/5359 [==============================] - 1s 130us/step - loss: 0.3512 - accuracy: 0.8580 - val_loss: 0.3725 - val_accuracy: 0.8493\n",
      "Epoch 14/100\n",
      "5359/5359 [==============================] - 1s 152us/step - loss: 0.3490 - accuracy: 0.8608 - val_loss: 0.3730 - val_accuracy: 0.8455\n",
      "Epoch 15/100\n",
      "5359/5359 [==============================] - 1s 152us/step - loss: 0.3473 - accuracy: 0.8589 - val_loss: 0.3713 - val_accuracy: 0.8459\n",
      "Epoch 16/100\n",
      "5359/5359 [==============================] - 1s 145us/step - loss: 0.3462 - accuracy: 0.8597 - val_loss: 0.3712 - val_accuracy: 0.8489\n",
      "Epoch 17/100\n",
      "5359/5359 [==============================] - 1s 151us/step - loss: 0.3452 - accuracy: 0.8582 - val_loss: 0.3705 - val_accuracy: 0.8470\n",
      "Epoch 18/100\n",
      "5359/5359 [==============================] - 1s 138us/step - loss: 0.3436 - accuracy: 0.8591 - val_loss: 0.3702 - val_accuracy: 0.8470\n",
      "Epoch 19/100\n",
      "5359/5359 [==============================] - 1s 122us/step - loss: 0.3429 - accuracy: 0.8599 - val_loss: 0.3686 - val_accuracy: 0.8485\n",
      "Epoch 20/100\n",
      "5359/5359 [==============================] - 1s 123us/step - loss: 0.3422 - accuracy: 0.8602 - val_loss: 0.3673 - val_accuracy: 0.8485\n",
      "Epoch 21/100\n",
      "5359/5359 [==============================] - 1s 127us/step - loss: 0.3411 - accuracy: 0.8604 - val_loss: 0.3668 - val_accuracy: 0.8482\n",
      "Epoch 22/100\n",
      "5359/5359 [==============================] - 1s 117us/step - loss: 0.3403 - accuracy: 0.8593 - val_loss: 0.3687 - val_accuracy: 0.8459\n",
      "Epoch 23/100\n",
      "5359/5359 [==============================] - 1s 122us/step - loss: 0.3391 - accuracy: 0.8597 - val_loss: 0.3670 - val_accuracy: 0.8470\n",
      "Epoch 24/100\n",
      "5359/5359 [==============================] - 1s 123us/step - loss: 0.3387 - accuracy: 0.8591 - val_loss: 0.3668 - val_accuracy: 0.8535\n",
      "Epoch 25/100\n",
      "5359/5359 [==============================] - 1s 119us/step - loss: 0.3382 - accuracy: 0.8625 - val_loss: 0.3645 - val_accuracy: 0.8482\n",
      "Epoch 26/100\n",
      "5359/5359 [==============================] - 1s 122us/step - loss: 0.3365 - accuracy: 0.8597 - val_loss: 0.3632 - val_accuracy: 0.8508\n",
      "Epoch 27/100\n",
      "5359/5359 [==============================] - 1s 120us/step - loss: 0.3364 - accuracy: 0.8628 - val_loss: 0.3645 - val_accuracy: 0.8497\n",
      "Epoch 28/100\n",
      "5359/5359 [==============================] - 1s 121us/step - loss: 0.3353 - accuracy: 0.8647 - val_loss: 0.3639 - val_accuracy: 0.8569\n",
      "Epoch 29/100\n",
      "5359/5359 [==============================] - 1s 124us/step - loss: 0.3356 - accuracy: 0.8617 - val_loss: 0.3618 - val_accuracy: 0.8497\n",
      "Epoch 30/100\n",
      "5359/5359 [==============================] - 1s 121us/step - loss: 0.3345 - accuracy: 0.8615 - val_loss: 0.3613 - val_accuracy: 0.8531\n",
      "Epoch 31/100\n",
      "5359/5359 [==============================] - 1s 123us/step - loss: 0.3346 - accuracy: 0.8617 - val_loss: 0.3608 - val_accuracy: 0.8512\n",
      "Epoch 32/100\n",
      "5359/5359 [==============================] - 1s 124us/step - loss: 0.3335 - accuracy: 0.8643 - val_loss: 0.3596 - val_accuracy: 0.8512\n",
      "Epoch 33/100\n",
      "5359/5359 [==============================] - 1s 121us/step - loss: 0.3331 - accuracy: 0.8640 - val_loss: 0.3589 - val_accuracy: 0.8508\n",
      "Epoch 34/100\n",
      "5359/5359 [==============================] - 1s 123us/step - loss: 0.3332 - accuracy: 0.8630 - val_loss: 0.3596 - val_accuracy: 0.8557\n",
      "Epoch 35/100\n",
      "5359/5359 [==============================] - 1s 120us/step - loss: 0.3316 - accuracy: 0.8647 - val_loss: 0.3617 - val_accuracy: 0.8573\n",
      "Epoch 36/100\n",
      "5359/5359 [==============================] - 1s 118us/step - loss: 0.3317 - accuracy: 0.8627 - val_loss: 0.3581 - val_accuracy: 0.8504\n",
      "Epoch 37/100\n",
      "5359/5359 [==============================] - 1s 123us/step - loss: 0.3310 - accuracy: 0.8649 - val_loss: 0.3600 - val_accuracy: 0.8519\n",
      "Epoch 38/100\n",
      "5359/5359 [==============================] - 1s 120us/step - loss: 0.3312 - accuracy: 0.8623 - val_loss: 0.3579 - val_accuracy: 0.8557\n",
      "Epoch 39/100\n",
      "5359/5359 [==============================] - 1s 121us/step - loss: 0.3305 - accuracy: 0.8645 - val_loss: 0.3574 - val_accuracy: 0.8535\n",
      "Epoch 40/100\n",
      "5359/5359 [==============================] - 1s 120us/step - loss: 0.3307 - accuracy: 0.8619 - val_loss: 0.3593 - val_accuracy: 0.8497\n",
      "Epoch 41/100\n",
      "5359/5359 [==============================] - 1s 119us/step - loss: 0.3303 - accuracy: 0.8651 - val_loss: 0.3576 - val_accuracy: 0.8565\n",
      "Epoch 42/100\n",
      "5359/5359 [==============================] - 1s 133us/step - loss: 0.3300 - accuracy: 0.8625 - val_loss: 0.3588 - val_accuracy: 0.8519\n",
      "Epoch 43/100\n",
      "5359/5359 [==============================] - 1s 111us/step - loss: 0.3294 - accuracy: 0.8643 - val_loss: 0.3567 - val_accuracy: 0.8569\n",
      "Epoch 44/100\n",
      "5359/5359 [==============================] - 1s 109us/step - loss: 0.3291 - accuracy: 0.8642 - val_loss: 0.3577 - val_accuracy: 0.8531\n",
      "Epoch 45/100\n",
      "5359/5359 [==============================] - 1s 115us/step - loss: 0.3289 - accuracy: 0.8640 - val_loss: 0.3584 - val_accuracy: 0.8565\n",
      "Epoch 46/100\n",
      "5359/5359 [==============================] - 1s 119us/step - loss: 0.3281 - accuracy: 0.8658 - val_loss: 0.3605 - val_accuracy: 0.8516\n",
      "Epoch 47/100\n",
      "5359/5359 [==============================] - 1s 121us/step - loss: 0.3285 - accuracy: 0.8651 - val_loss: 0.3585 - val_accuracy: 0.8557\n",
      "Epoch 48/100\n",
      "5359/5359 [==============================] - 1s 119us/step - loss: 0.3272 - accuracy: 0.8647 - val_loss: 0.3560 - val_accuracy: 0.8569\n",
      "Epoch 49/100\n",
      "5359/5359 [==============================] - 1s 128us/step - loss: 0.3269 - accuracy: 0.8640 - val_loss: 0.3553 - val_accuracy: 0.8565\n",
      "Epoch 50/100\n",
      "5359/5359 [==============================] - 1s 122us/step - loss: 0.3264 - accuracy: 0.8642 - val_loss: 0.3560 - val_accuracy: 0.8565\n",
      "Epoch 51/100\n",
      "5359/5359 [==============================] - 1s 120us/step - loss: 0.3269 - accuracy: 0.8653 - val_loss: 0.3578 - val_accuracy: 0.8542\n",
      "Epoch 52/100\n",
      "5359/5359 [==============================] - 1s 122us/step - loss: 0.3259 - accuracy: 0.8640 - val_loss: 0.3583 - val_accuracy: 0.8561\n",
      "Epoch 53/100\n",
      "5359/5359 [==============================] - 1s 121us/step - loss: 0.3263 - accuracy: 0.8627 - val_loss: 0.3561 - val_accuracy: 0.8554\n",
      "Epoch 54/100\n",
      "5359/5359 [==============================] - 1s 126us/step - loss: 0.3250 - accuracy: 0.8649 - val_loss: 0.3561 - val_accuracy: 0.8565\n",
      "Epoch 55/100\n",
      "5359/5359 [==============================] - 1s 121us/step - loss: 0.3258 - accuracy: 0.8642 - val_loss: 0.3558 - val_accuracy: 0.8565\n",
      "Epoch 56/100\n",
      "5359/5359 [==============================] - 1s 119us/step - loss: 0.3256 - accuracy: 0.8660 - val_loss: 0.3587 - val_accuracy: 0.8561\n",
      "Epoch 57/100\n",
      "5359/5359 [==============================] - 1s 122us/step - loss: 0.3253 - accuracy: 0.8651 - val_loss: 0.3559 - val_accuracy: 0.8595\n",
      "Epoch 58/100\n",
      "5359/5359 [==============================] - 1s 120us/step - loss: 0.3253 - accuracy: 0.8649 - val_loss: 0.3576 - val_accuracy: 0.8576\n",
      "Epoch 59/100\n",
      "5359/5359 [==============================] - 1s 122us/step - loss: 0.3257 - accuracy: 0.8662 - val_loss: 0.3554 - val_accuracy: 0.8603\n",
      "Epoch 60/100\n",
      "5359/5359 [==============================] - 1s 129us/step - loss: 0.3247 - accuracy: 0.8634 - val_loss: 0.3570 - val_accuracy: 0.8580\n",
      "Epoch 61/100\n",
      "5359/5359 [==============================] - 1s 124us/step - loss: 0.3247 - accuracy: 0.8647 - val_loss: 0.3558 - val_accuracy: 0.8595\n",
      "Epoch 62/100\n",
      "5359/5359 [==============================] - 1s 120us/step - loss: 0.3241 - accuracy: 0.8634 - val_loss: 0.3549 - val_accuracy: 0.8584\n",
      "Epoch 63/100\n",
      "5359/5359 [==============================] - 1s 121us/step - loss: 0.3244 - accuracy: 0.8630 - val_loss: 0.3546 - val_accuracy: 0.8542\n",
      "Epoch 64/100\n",
      "5359/5359 [==============================] - 1s 119us/step - loss: 0.3247 - accuracy: 0.8660 - val_loss: 0.3551 - val_accuracy: 0.8569\n",
      "Epoch 65/100\n",
      "5359/5359 [==============================] - 1s 122us/step - loss: 0.3239 - accuracy: 0.8658 - val_loss: 0.3541 - val_accuracy: 0.8554\n",
      "Epoch 66/100\n",
      "5359/5359 [==============================] - 1s 122us/step - loss: 0.3238 - accuracy: 0.8649 - val_loss: 0.3545 - val_accuracy: 0.8573\n",
      "Epoch 67/100\n",
      "5359/5359 [==============================] - 1s 135us/step - loss: 0.3236 - accuracy: 0.8645 - val_loss: 0.3543 - val_accuracy: 0.8565\n",
      "Epoch 68/100\n",
      "5359/5359 [==============================] - 1s 123us/step - loss: 0.3234 - accuracy: 0.8645 - val_loss: 0.3552 - val_accuracy: 0.8573\n",
      "Epoch 69/100\n",
      "5359/5359 [==============================] - 1s 122us/step - loss: 0.3234 - accuracy: 0.8647 - val_loss: 0.3561 - val_accuracy: 0.8561\n",
      "Epoch 70/100\n",
      "5359/5359 [==============================] - 1s 118us/step - loss: 0.3235 - accuracy: 0.8670 - val_loss: 0.3550 - val_accuracy: 0.8576\n",
      "Epoch 71/100\n",
      "5359/5359 [==============================] - 1s 123us/step - loss: 0.3235 - accuracy: 0.8651 - val_loss: 0.3554 - val_accuracy: 0.8599\n",
      "Epoch 72/100\n",
      "5359/5359 [==============================] - 1s 120us/step - loss: 0.3233 - accuracy: 0.8675 - val_loss: 0.3554 - val_accuracy: 0.8584\n",
      "Epoch 73/100\n",
      "5359/5359 [==============================] - 1s 121us/step - loss: 0.3226 - accuracy: 0.8645 - val_loss: 0.3559 - val_accuracy: 0.8565\n",
      "Epoch 74/100\n",
      "5359/5359 [==============================] - 1s 121us/step - loss: 0.3223 - accuracy: 0.8675 - val_loss: 0.3606 - val_accuracy: 0.8588\n",
      "Epoch 75/100\n",
      "5359/5359 [==============================] - 1s 120us/step - loss: 0.3230 - accuracy: 0.8664 - val_loss: 0.3547 - val_accuracy: 0.8588\n",
      "Epoch 76/100\n",
      "5359/5359 [==============================] - 1s 124us/step - loss: 0.3231 - accuracy: 0.8640 - val_loss: 0.3560 - val_accuracy: 0.8599\n",
      "Epoch 77/100\n",
      "5359/5359 [==============================] - 1s 119us/step - loss: 0.3235 - accuracy: 0.8643 - val_loss: 0.3541 - val_accuracy: 0.8561\n",
      "Epoch 78/100\n",
      "5359/5359 [==============================] - 1s 118us/step - loss: 0.3222 - accuracy: 0.8670 - val_loss: 0.3558 - val_accuracy: 0.8576\n",
      "Epoch 79/100\n",
      "5359/5359 [==============================] - 1s 119us/step - loss: 0.3224 - accuracy: 0.8664 - val_loss: 0.3549 - val_accuracy: 0.8576\n",
      "Epoch 80/100\n",
      "5359/5359 [==============================] - 1s 116us/step - loss: 0.3227 - accuracy: 0.8658 - val_loss: 0.3554 - val_accuracy: 0.8584\n",
      "Epoch 81/100\n",
      "5359/5359 [==============================] - 1s 119us/step - loss: 0.3225 - accuracy: 0.8651 - val_loss: 0.3554 - val_accuracy: 0.8573\n",
      "Epoch 82/100\n",
      "5359/5359 [==============================] - 1s 117us/step - loss: 0.3223 - accuracy: 0.8647 - val_loss: 0.3556 - val_accuracy: 0.8580\n",
      "Epoch 83/100\n",
      "5359/5359 [==============================] - 1s 118us/step - loss: 0.3224 - accuracy: 0.8658 - val_loss: 0.3551 - val_accuracy: 0.8588\n",
      "Epoch 84/100\n",
      "5359/5359 [==============================] - ETA: 0s - loss: 0.3142 - accuracy: 0.87 - ETA: 0s - loss: 0.3192 - accuracy: 0.86 - 1s 121us/step - loss: 0.3230 - accuracy: 0.8647 - val_loss: 0.3595 - val_accuracy: 0.8542\n",
      "Epoch 85/100\n",
      "5359/5359 [==============================] - 1s 120us/step - loss: 0.3227 - accuracy: 0.8673 - val_loss: 0.3548 - val_accuracy: 0.8599\n",
      "Epoch 86/100\n",
      "5359/5359 [==============================] - 1s 119us/step - loss: 0.3218 - accuracy: 0.8658 - val_loss: 0.3566 - val_accuracy: 0.8591\n",
      "Epoch 87/100\n",
      "5359/5359 [==============================] - 1s 117us/step - loss: 0.3214 - accuracy: 0.8642 - val_loss: 0.3563 - val_accuracy: 0.8569\n",
      "Epoch 88/100\n",
      "5359/5359 [==============================] - 1s 117us/step - loss: 0.3229 - accuracy: 0.8656 - val_loss: 0.3550 - val_accuracy: 0.8588\n",
      "Epoch 89/100\n",
      "5359/5359 [==============================] - 1s 118us/step - loss: 0.3215 - accuracy: 0.8653 - val_loss: 0.3584 - val_accuracy: 0.8580\n",
      "Epoch 90/100\n",
      "5359/5359 [==============================] - 1s 132us/step - loss: 0.3219 - accuracy: 0.8658 - val_loss: 0.3583 - val_accuracy: 0.8576\n",
      "Epoch 91/100\n",
      "5359/5359 [==============================] - 1s 137us/step - loss: 0.3225 - accuracy: 0.8647 - val_loss: 0.3555 - val_accuracy: 0.8588\n",
      "Epoch 92/100\n",
      "5359/5359 [==============================] - 1s 134us/step - loss: 0.3215 - accuracy: 0.8647 - val_loss: 0.3562 - val_accuracy: 0.8588\n",
      "Epoch 93/100\n",
      "5359/5359 [==============================] - 1s 124us/step - loss: 0.3218 - accuracy: 0.8632 - val_loss: 0.3559 - val_accuracy: 0.8565\n",
      "Epoch 94/100\n",
      "5359/5359 [==============================] - 1s 125us/step - loss: 0.3212 - accuracy: 0.8651 - val_loss: 0.3554 - val_accuracy: 0.8610\n",
      "Epoch 95/100\n",
      "5359/5359 [==============================] - 1s 125us/step - loss: 0.3208 - accuracy: 0.8668 - val_loss: 0.3556 - val_accuracy: 0.8569\n",
      "Epoch 96/100\n",
      "5359/5359 [==============================] - 1s 123us/step - loss: 0.3221 - accuracy: 0.8649 - val_loss: 0.3555 - val_accuracy: 0.8580\n",
      "Epoch 97/100\n",
      "5359/5359 [==============================] - 1s 125us/step - loss: 0.3219 - accuracy: 0.8649 - val_loss: 0.3555 - val_accuracy: 0.8588\n",
      "Epoch 98/100\n",
      "5359/5359 [==============================] - 1s 136us/step - loss: 0.3215 - accuracy: 0.8653 - val_loss: 0.3576 - val_accuracy: 0.8588\n",
      "Epoch 99/100\n",
      "5359/5359 [==============================] - 1s 123us/step - loss: 0.3218 - accuracy: 0.8658 - val_loss: 0.3567 - val_accuracy: 0.8580\n",
      "Epoch 100/100\n",
      "5359/5359 [==============================] - 1s 156us/step - loss: 0.3201 - accuracy: 0.8636 - val_loss: 0.3590 - val_accuracy: 0.8554\n"
     ]
    }
   ],
   "source": [
    "# Fitting the ANN to the training set\n",
    "model_history = classifier.fit(X_train, y_train, validation_split=0.33, batch_size=10, nb_epoch = 100)"
   ]
  },
  {
   "cell_type": "markdown",
   "metadata": {},
   "source": [
    "#### part 3 - Making the predictions and evaluating the models"
   ]
  },
  {
   "cell_type": "code",
   "execution_count": 37,
   "metadata": {},
   "outputs": [],
   "source": [
    "# Predicting the test results\n",
    "y_pred = classifier.predict(X_test)\n",
    "y_pred = (y_pred > 0.5)"
   ]
  },
  {
   "cell_type": "code",
   "execution_count": 38,
   "metadata": {},
   "outputs": [
    {
     "data": {
      "text/plain": [
       "array([[False],\n",
       "       [False],\n",
       "       [False],\n",
       "       ...,\n",
       "       [False],\n",
       "       [False],\n",
       "       [False]])"
      ]
     },
     "execution_count": 38,
     "metadata": {},
     "output_type": "execute_result"
    }
   ],
   "source": [
    "y_pred"
   ]
  },
  {
   "cell_type": "code",
   "execution_count": 39,
   "metadata": {},
   "outputs": [],
   "source": [
    "# Making the confusion_matrix\n",
    "from sklearn.metrics import confusion_matrix\n",
    "cm = confusion_matrix(y_test, y_pred)"
   ]
  },
  {
   "cell_type": "code",
   "execution_count": 40,
   "metadata": {},
   "outputs": [
    {
     "data": {
      "text/plain": [
       "array([[1540,   55],\n",
       "       [ 217,  188]], dtype=int64)"
      ]
     },
     "execution_count": 40,
     "metadata": {},
     "output_type": "execute_result"
    }
   ],
   "source": [
    "cm"
   ]
  },
  {
   "cell_type": "code",
   "execution_count": 41,
   "metadata": {},
   "outputs": [],
   "source": [
    "#Calculating the accuracy\n",
    "from sklearn.metrics import accuracy_score\n",
    "score = accuracy_score(y_pred, y_test)"
   ]
  },
  {
   "cell_type": "code",
   "execution_count": 42,
   "metadata": {},
   "outputs": [
    {
     "data": {
      "text/plain": [
       "0.864"
      ]
     },
     "execution_count": 42,
     "metadata": {},
     "output_type": "execute_result"
    }
   ],
   "source": [
    "score"
   ]
  },
  {
   "cell_type": "code",
   "execution_count": null,
   "metadata": {},
   "outputs": [],
   "source": []
  }
 ],
 "metadata": {
  "kernelspec": {
   "display_name": "Python 3",
   "language": "python",
   "name": "python3"
  },
  "language_info": {
   "codemirror_mode": {
    "name": "ipython",
    "version": 3
   },
   "file_extension": ".py",
   "mimetype": "text/x-python",
   "name": "python",
   "nbconvert_exporter": "python",
   "pygments_lexer": "ipython3",
   "version": "3.8.8"
  }
 },
 "nbformat": 4,
 "nbformat_minor": 2
}
